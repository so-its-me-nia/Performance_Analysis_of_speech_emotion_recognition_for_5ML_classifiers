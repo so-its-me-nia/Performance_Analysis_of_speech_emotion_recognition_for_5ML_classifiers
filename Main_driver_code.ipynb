{
 "cells": [
  {
   "cell_type": "code",
   "execution_count": 2,
   "id": "2f6d7603",
   "metadata": {},
   "outputs": [],
   "source": [
    "{\n",
    "    \"tags\": [\n",
    "        \"hide-input\",\n",
    "    ]\n",
    "}\n",
    "import warnings\n",
    "warnings.filterwarnings('ignore')"
   ]
  },
  {
   "cell_type": "code",
   "execution_count": 6,
   "id": "6567ccef",
   "metadata": {},
   "outputs": [],
   "source": [
    "import sys\n",
    "# sys.path is a list of absolute path strings\n",
    "sys.path.append('C:/Users/sunil/Desktop/Sem5/MP_work/RNN_work')\n",
    "\n",
    "from emotion_recognition import EmotionRecognizer"
   ]
  },
  {
   "cell_type": "code",
   "execution_count": 9,
   "id": "d5ce914e",
   "metadata": {},
   "outputs": [
    {
     "name": "stdout",
     "output_type": "stream",
     "text": [
      "--------RESULTS--------\n",
      " [(MLPClassifier(alpha=0.01, batch_size=512, hidden_layer_sizes=(300,),\n",
      "              learning_rate='adaptive', max_iter=400), 0.8620967741935484), (SVC(C=10, gamma=0.001), 0.8540322580645161), (GradientBoostingClassifier(learning_rate=0.3, max_depth=7, subsample=0.7), 0.8524193548387097), (BaggingClassifier(max_features=0.5, n_estimators=50), 0.8451612903225807), (KNeighborsClassifier(n_neighbors=3, p=1, weights='distance'), 0.8362903225806452), (RandomForestClassifier(max_depth=7, max_features=0.5, n_estimators=40), 0.7596774193548387)] \n",
      "-------------------------------------------\n",
      "\n",
      "MLPClassifier is the best\n",
      "Test score: 0.8620967741935484\n"
     ]
    }
   ],
   "source": [
    "my_model = SVC()\n",
    "rec = EmotionRecognizer(model=my_model, emotions=['angry', 'sad', 'neutral', 'fear', 'happy'], balance=True, verbose=0)\n",
    "# loads the best estimators from `grid` folder that was searched by GridSearchCV in `grid_search.py`,\n",
    "# and set the model to the best in terms of test score, and then train it\n",
    "rec.determine_best_model()\n",
    "# get the determined sklearn model name\n",
    "print(rec.model.__class__.__name__, \"is the best\")\n",
    "# get the test accuracy score for the best estimator\n",
    "print(\"Test score:\", rec.test_score())"
   ]
  },
  {
   "cell_type": "code",
   "execution_count": 11,
   "id": "248a0f7c",
   "metadata": {},
   "outputs": [
    {
     "name": "stdout",
     "output_type": "stream",
     "text": [
      "Prediction: neutral\n",
      "Prediction: sad\n"
     ]
    }
   ],
   "source": [
    "# this is a neutral speech from emo-db from the testing set\n",
    "print(\"Prediction:\", rec.predict(\"data/emodb/wav/15a04Nc.wav\"))\n",
    "# this is a sad speech from TESS from the testing set\n",
    "print(\"Prediction:\", rec.predict(\"data/validation/Actor_25/25_01_01_01_back_sad.wav\"))"
   ]
  },
  {
   "cell_type": "markdown",
   "id": "a02727db",
   "metadata": {},
   "source": [
    "Using RNN"
   ]
  },
  {
   "cell_type": "code",
   "execution_count": 12,
   "id": "c0e3c6cb",
   "metadata": {},
   "outputs": [
    {
     "name": "stdout",
     "output_type": "stream",
     "text": [
      "[TESS&RAVDESS] There are 1129 training audio files for category:angry\n",
      "[TESS&RAVDESS] There are 228 testing audio files for category:angry\n",
      "[TESS&RAVDESS] There are 1133 training audio files for category:sad\n",
      "[TESS&RAVDESS] There are 227 testing audio files for category:sad\n",
      "[TESS&RAVDESS] There are 906 training audio files for category:neutral\n",
      "[TESS&RAVDESS] There are 174 testing audio files for category:neutral\n",
      "[TESS&RAVDESS] There are 1138 training audio files for category:fear\n",
      "[TESS&RAVDESS] There are 222 testing audio files for category:fear\n",
      "[TESS&RAVDESS] There are 1126 training audio files for category:happy\n",
      "[TESS&RAVDESS] There are 228 testing audio files for category:happy\n",
      "[+] Generated TESS & RAVDESS DB CSV File\n",
      "[EMO-DB] Total files to write: 408\n",
      "[EMO-DB] Training samples: 326\n",
      "[EMO-DB] Testing samples: 81\n",
      "[+] Generated EMO-DB CSV File\n",
      "[Custom Dataset] There are 49 training audio files for category:neutral\n",
      "[Custom Dataset] There are 33 testing audio files for category:neutral\n",
      "[Custom Dataset] There are 33 training audio files for category:fear\n",
      "[Custom Dataset] There are 33 testing audio files for category:fear\n",
      "[Custom Dataset] There are 48 training audio files for category:happy\n",
      "[Custom Dataset] There are 23 testing audio files for category:happy\n",
      "[+] Generated Custom DB CSV File\n",
      "[surrey] Total files to write: 360\n",
      "[surrey] Training samples: 288\n",
      "[surrey] Testing samples: 71\n",
      "[+] Generated Surrey DB CSV File\n",
      "[+] Data loaded\n",
      "[+] Model created\n",
      "[*] Model weights loaded\n",
      "0.728225806451613\n",
      "Prediction: angry\n"
     ]
    }
   ],
   "source": [
    "from deep_emotion_recognition import DeepEmotionRecognizer\n",
    "\n",
    "deeprec = DeepEmotionRecognizer(emotions=['angry', 'sad', 'neutral', 'fear', 'happy'], n_rnn_layers=2, n_dense_layers=2, \n",
    "                                rnn_units=128, dense_units=128)\n",
    "\n",
    "# train \n",
    "deeprec.train()\n",
    "print(deeprec.test_score())\n",
    "\n",
    "# predict angry audio sample\n",
    "prediction = deeprec.predict('data/validation/Actor_10/03-02-05-02-02-02-10_angry.wav')\n",
    "print(f\"Prediction: {prediction}\")"
   ]
  },
  {
   "cell_type": "code",
   "execution_count": 13,
   "id": "675c4f63",
   "metadata": {},
   "outputs": [
    {
     "name": "stdout",
     "output_type": "stream",
     "text": [
      "{'angry': 0.0341435, 'sad': 0.010625377, 'neutral': 0.022991372, 'fear': 0.79148155, 'happy': 0.14075829}\n"
     ]
    }
   ],
   "source": [
    "print(deeprec.predict_proba(\"data/emodb/wav/16a01Wb.wav\"))"
   ]
  },
  {
   "cell_type": "code",
   "execution_count": 14,
   "id": "d1774c04",
   "metadata": {},
   "outputs": [
    {
     "name": "stdout",
     "output_type": "stream",
     "text": [
      "              predicted_angry  predicted_sad  predicted_neutral  \\\n",
      "true_angry          79.032257       0.403226           3.225806   \n",
      "true_sad             0.806452      75.000000          10.080646   \n",
      "true_neutral         7.258064      19.354837          68.548386   \n",
      "true_fear            8.064516      15.322581           3.629032   \n",
      "true_happy           8.467742       1.612903           4.032258   \n",
      "\n",
      "              predicted_fear  predicted_happy  \n",
      "true_angry          8.870968         8.467742  \n",
      "true_sad            5.241935         8.870968  \n",
      "true_neutral        0.403226         4.435484  \n",
      "true_fear          65.725807         7.258064  \n",
      "true_happy         10.080646        75.806450  \n"
     ]
    }
   ],
   "source": [
    "print(deeprec.confusion_matrix(percentage=True, labeled=True))"
   ]
  },
  {
   "cell_type": "markdown",
   "id": "976050f5",
   "metadata": {},
   "source": [
    "Not passing ay model and removing the custom dataset"
   ]
  },
  {
   "cell_type": "code",
   "execution_count": 10,
   "id": "bfc82a97",
   "metadata": {
    "scrolled": true
   },
   "outputs": [
    {
     "name": "stdout",
     "output_type": "stream",
     "text": [
      "[TESS&RAVDESS] There are 1129 training audio files for category:angry\n",
      "[TESS&RAVDESS] There are 228 testing audio files for category:angry\n",
      "[TESS&RAVDESS] There are 1133 training audio files for category:sad\n",
      "[TESS&RAVDESS] There are 227 testing audio files for category:sad\n",
      "[TESS&RAVDESS] There are 906 training audio files for category:neutral\n",
      "[TESS&RAVDESS] There are 174 testing audio files for category:neutral\n",
      "[TESS&RAVDESS] There are 1138 training audio files for category:fear\n",
      "[TESS&RAVDESS] There are 222 testing audio files for category:fear\n",
      "[TESS&RAVDESS] There are 1126 training audio files for category:happy\n",
      "[TESS&RAVDESS] There are 228 testing audio files for category:happy\n",
      "[+] Generated TESS & RAVDESS DB CSV File\n",
      "[EMO-DB] Total files to write: 408\n",
      "[EMO-DB] Training samples: 326\n",
      "[EMO-DB] Testing samples: 81\n",
      "[+] Generated EMO-DB CSV File\n",
      "[surrey] Total files to write: 360\n",
      "[surrey] Training samples: 288\n",
      "[surrey] Testing samples: 71\n",
      "[+] Generated Surrey DB CSV File\n"
     ]
    },
    {
     "name": "stderr",
     "output_type": "stream",
     "text": [
      "Extracting features for train: 100%|██████████| 6046/6046 [03:51<00:00, 26.09it/s]\n",
      "Extracting features for test: 100%|██████████| 1233/1233 [00:45<00:00, 18.88it/s]\n"
     ]
    },
    {
     "name": "stdout",
     "output_type": "stream",
     "text": [
      "[+] Data loaded\n"
     ]
    },
    {
     "name": "stderr",
     "output_type": "stream",
     "text": [
      "Evaluating BaggingClassifier: 100%|██████████| 6/6 [04:19<00:00, 31.16s/it]         \n"
     ]
    },
    {
     "name": "stdout",
     "output_type": "stream",
     "text": [
      "--------RESULTS--------\n",
      " [(GradientBoostingClassifier(learning_rate=0.3, max_depth=7, subsample=0.7), 0.8572587185725872), (BaggingClassifier(max_features=0.5, n_estimators=50), 0.8507704785077048), (KNeighborsClassifier(n_neighbors=3, p=1, weights='distance'), 0.8426601784266018), (MLPClassifier(alpha=0.01, batch_size=512, hidden_layer_sizes=(300,),\n",
      "              learning_rate='adaptive', max_iter=400), 0.8394160583941606), (SVC(C=10, gamma=0.001), 0.8369829683698297), (RandomForestClassifier(max_depth=7, max_features=0.5, n_estimators=40), 0.7664233576642335)] \n",
      "-------------------------------------------\n",
      "\n",
      "[+] Best model determined: GradientBoostingClassifier with 85.726% test accuracy\n",
      "              predicted_angry  predicted_sad  predicted_neutral  \\\n",
      "true_angry          98.818901       0.000000           0.000000   \n",
      "true_sad             3.937008      87.007874           1.574803   \n",
      "true_neutral        11.009174       5.504587          77.981651   \n",
      "true_fear           10.887096       2.822581           0.806452   \n",
      "true_happy          15.057916       1.158301           0.000000   \n",
      "\n",
      "              predicted_fear  predicted_happy  \n",
      "true_angry          1.181102         0.000000  \n",
      "true_sad            5.511811         1.968504  \n",
      "true_neutral        3.669725         1.834862  \n",
      "true_fear          82.661285         2.822581  \n",
      "true_happy          2.702703        81.081078  \n",
      "Prediction: angry\n"
     ]
    }
   ],
   "source": [
    "from emotion_recognition import EmotionRecognizer\n",
    "# initialize instance, this will take a bit the first time executed\n",
    "# as it'll extract the features and calls determine_best_model() automatically\n",
    "# to load the best performing model on the picked dataset\n",
    "rec = EmotionRecognizer(emotions=['angry', 'sad', 'neutral', 'fear', 'happy'], balance=False, verbose=1, custom_db=False)\n",
    "# it will be trained, so no need to train this time\n",
    "# get the accuracy on the test set\n",
    "print(rec.confusion_matrix())\n",
    "# predict angry audio sample\n",
    "prediction = rec.predict('data/validation/Actor_10/03-02-05-02-02-02-10_angry.wav')\n",
    "print(f\"Prediction: {prediction}\")"
   ]
  },
  {
   "cell_type": "code",
   "execution_count": 15,
   "id": "43ae54a8",
   "metadata": {
    "scrolled": true
   },
   "outputs": [
    {
     "data": {
      "text/html": [
       "<div>\n",
       "<style scoped>\n",
       "    .dataframe tbody tr th:only-of-type {\n",
       "        vertical-align: middle;\n",
       "    }\n",
       "\n",
       "    .dataframe tbody tr th {\n",
       "        vertical-align: top;\n",
       "    }\n",
       "\n",
       "    .dataframe thead th {\n",
       "        text-align: right;\n",
       "    }\n",
       "</style>\n",
       "<table border=\"1\" class=\"dataframe\">\n",
       "  <thead>\n",
       "    <tr style=\"text-align: right;\">\n",
       "      <th></th>\n",
       "      <th>train</th>\n",
       "      <th>test</th>\n",
       "      <th>total</th>\n",
       "    </tr>\n",
       "  </thead>\n",
       "  <tbody>\n",
       "    <tr>\n",
       "      <th>angry</th>\n",
       "      <td>1290</td>\n",
       "      <td>254</td>\n",
       "      <td>1544</td>\n",
       "    </tr>\n",
       "    <tr>\n",
       "      <th>sad</th>\n",
       "      <td>1228</td>\n",
       "      <td>254</td>\n",
       "      <td>1482</td>\n",
       "    </tr>\n",
       "    <tr>\n",
       "      <th>neutral</th>\n",
       "      <td>1061</td>\n",
       "      <td>218</td>\n",
       "      <td>1279</td>\n",
       "    </tr>\n",
       "    <tr>\n",
       "      <th>fear</th>\n",
       "      <td>1241</td>\n",
       "      <td>248</td>\n",
       "      <td>1489</td>\n",
       "    </tr>\n",
       "    <tr>\n",
       "      <th>happy</th>\n",
       "      <td>1226</td>\n",
       "      <td>259</td>\n",
       "      <td>1485</td>\n",
       "    </tr>\n",
       "    <tr>\n",
       "      <th>total</th>\n",
       "      <td>6046</td>\n",
       "      <td>1233</td>\n",
       "      <td>7279</td>\n",
       "    </tr>\n",
       "  </tbody>\n",
       "</table>\n",
       "</div>"
      ],
      "text/plain": [
       "         train  test  total\n",
       "angry     1290   254   1544\n",
       "sad       1228   254   1482\n",
       "neutral   1061   218   1279\n",
       "fear      1241   248   1489\n",
       "happy     1226   259   1485\n",
       "total     6046  1233   7279"
      ]
     },
     "execution_count": 15,
     "metadata": {},
     "output_type": "execute_result"
    }
   ],
   "source": [
    "rec.get_samples_by_class()"
   ]
  },
  {
   "cell_type": "markdown",
   "id": "e384136c",
   "metadata": {},
   "source": [
    "Histograms"
   ]
  },
  {
   "cell_type": "code",
   "execution_count": 16,
   "id": "c23742b4",
   "metadata": {},
   "outputs": [
    {
     "name": "stdout",
     "output_type": "stream",
     "text": [
      "[+] Model trained\n",
      "[+] SVC with 1.0% (55) data samples achieved 93.818% Validation Score in 0.002s & 50.000% Test Score in 0.000s\n",
      "[+] Model trained\n",
      "[+] SVC with 10.0% (555) data samples achieved 93.818% Validation Score in 0.051s & 67.742% Test Score in 0.010s\n",
      "[+] Model trained\n",
      "[+] SVC with 100% (5555) data samples achieved 93.818% Validation Score in 2.117s & 85.403% Test Score in 0.595s\n",
      "\n",
      "[+] Model trained\n",
      "[+] RandomForestClassifier with 1.0% (55) data samples achieved 88.540% Validation Score in 0.066s & 33.333% Test Score in 0.005s\n",
      "[+] Model trained\n",
      "[+] RandomForestClassifier with 10.0% (555) data samples achieved 88.540% Validation Score in 0.606s & 74.194% Test Score in 0.007s\n",
      "[+] Model trained\n",
      "[+] RandomForestClassifier with 100% (5555) data samples achieved 88.540% Validation Score in 6.162s & 77.177% Test Score in 0.012s\n",
      "\n",
      "[+] Model trained\n",
      "[+] GradientBoostingClassifier with 1.0% (55) data samples achieved 94.769% Validation Score in 1.172s & 41.667% Test Score in 0.002s\n",
      "[+] Model trained\n",
      "[+] GradientBoostingClassifier with 10.0% (555) data samples achieved 94.769% Validation Score in 14.701s & 79.032% Test Score in 0.004s\n",
      "[+] Model trained\n",
      "[+] GradientBoostingClassifier with 100% (5555) data samples achieved 94.769% Validation Score in 179.922s & 84.919% Test Score in 0.017s\n",
      "\n",
      "[+] Model trained\n",
      "[+] KNeighborsClassifier with 1.0% (55) data samples achieved 93.200% Validation Score in 0.001s & 25.000% Test Score in 0.001s\n",
      "[+] Model trained\n",
      "[+] KNeighborsClassifier with 10.0% (555) data samples achieved 93.200% Validation Score in 0.002s & 65.323% Test Score in 0.008s\n",
      "[+] Model trained\n",
      "[+] KNeighborsClassifier with 100% (5555) data samples achieved 93.200% Validation Score in 0.005s & 83.629% Test Score in 1.346s\n",
      "\n",
      "[+] Model trained\n",
      "[+] MLPClassifier with 1.0% (55) data samples achieved 93.581% Validation Score in 0.341s & 75.000% Test Score in 0.001s\n",
      "[+] Model trained\n",
      "[+] MLPClassifier with 10.0% (555) data samples achieved 93.581% Validation Score in 1.109s & 77.419% Test Score in 0.002s\n",
      "[+] Model trained\n",
      "[+] MLPClassifier with 100% (5555) data samples achieved 93.581% Validation Score in 10.377s & 84.919% Test Score in 0.009s\n",
      "\n",
      "[+] Model trained\n",
      "[+] BaggingClassifier with 1.0% (55) data samples achieved 92.107% Validation Score in 0.134s & 50.000% Test Score in 0.007s\n",
      "[+] Model trained\n",
      "[+] BaggingClassifier with 10.0% (555) data samples achieved 92.107% Validation Score in 0.884s & 79.032% Test Score in 0.009s\n",
      "[+] Model trained\n",
      "[+] BaggingClassifier with 100% (5555) data samples achieved 92.107% Validation Score in 12.672s & 84.919% Test Score in 0.041s\n",
      "\n"
     ]
    },
    {
     "data": {
      "image/png": "[encoded data removed]",
      "text/plain": [
       "<Figure size 792x504 with 8 Axes>"
      ]
     },
     "metadata": {
      "needs_background": "light"
     },
     "output_type": "display_data"
    }
   ],
   "source": [
    "from emotion_recognition import plot_histograms\n",
    "# plot histograms on different classifiers\n",
    "plot_histograms(classifiers=True)"
   ]
  }
 ],
 "metadata": {
  "kernelspec": {
   "display_name": "Python 3 (ipykernel)",
   "language": "python",
   "name": "python3"
  },
  "language_info": {
   "codemirror_mode": {
    "name": "ipython",
    "version": 3
   },
   "file_extension": ".py",
   "mimetype": "text/x-python",
   "name": "python",
   "nbconvert_exporter": "python",
   "pygments_lexer": "ipython3",
   "version": "3.9.7"
  }
 },
 "nbformat": 4,
 "nbformat_minor": 5
}
